{
 "cells": [
  {
   "cell_type": "code",
   "execution_count": 4,
   "metadata": {},
   "outputs": [
    {
     "name": "stderr",
     "output_type": "stream",
     "text": [
      "g:\\conda\\envs\\AI\\Lib\\site-packages\\tqdm\\auto.py:21: TqdmWarning: IProgress not found. Please update jupyter and ipywidgets. See https://ipywidgets.readthedocs.io/en/stable/user_install.html\n",
      "  from .autonotebook import tqdm as notebook_tqdm\n"
     ]
    }
   ],
   "source": [
    "import datasets\n",
    "import numpy as np"
   ]
  },
  {
   "cell_type": "code",
   "execution_count": 12,
   "metadata": {},
   "outputs": [
    {
     "name": "stderr",
     "output_type": "stream",
     "text": [
      "Downloading readme: 100%|██████████| 4.12k/4.12k [00:00<?, ?B/s]\n",
      "Downloading data: 100%|██████████| 9.93M/9.93M [00:01<00:00, 5.62MB/s]\n",
      "Downloading data: 100%|██████████| 1.64M/1.64M [00:01<00:00, 1.58MB/s]\n",
      "Generating train split: 100%|██████████| 8010/8010 [00:00<00:00, 30332.04 examples/s]\n",
      "Generating test split: 100%|██████████| 1300/1300 [00:00<00:00, 133704.30 examples/s]\n"
     ]
    }
   ],
   "source": [
    "data = datasets.load_dataset(\"gretelai/synthetic-gsm8k-reflection-405b\")"
   ]
  },
  {
   "cell_type": "code",
   "execution_count": 24,
   "metadata": {},
   "outputs": [
    {
     "data": {
      "text/plain": [
       "DatasetDict({\n",
       "    train: Dataset({\n",
       "        features: ['difficulty', 'difficulty_description', 'topic', 'context', 'age_group', 'culture', 'question', 'answer', 'answer_with_tags'],\n",
       "        num_rows: 8010\n",
       "    })\n",
       "    test: Dataset({\n",
       "        features: ['difficulty', 'difficulty_description', 'topic', 'context', 'age_group', 'culture', 'question', 'answer', 'answer_with_tags'],\n",
       "        num_rows: 1300\n",
       "    })\n",
       "})"
      ]
     },
     "execution_count": 24,
     "metadata": {},
     "output_type": "execute_result"
    }
   ],
   "source": [
    "data"
   ]
  },
  {
   "cell_type": "code",
   "execution_count": 28,
   "metadata": {
    "vscode": {
     "languageId": "ruby"
    }
   },
   "outputs": [],
   "source": [
    "reflect_train_question = data['train']['question']\n",
    "reflect_train_answer = data['train']['answer_with_tags']\n",
    "\n",
    "reflect_test_question = data['test']['question']\n",
    "reflect_test_answer = data['test']['answer_with_tags']\n"
   ]
  },
  {
   "cell_type": "code",
   "execution_count": 43,
   "metadata": {
    "vscode": {
     "languageId": "ruby"
    }
   },
   "outputs": [],
   "source": [
    "train_data = reflect_train_question + reflect_test_question\n",
    "train_label = reflect_train_answer + reflect_test_answer"
   ]
  },
  {
   "cell_type": "code",
   "execution_count": 44,
   "metadata": {},
   "outputs": [],
   "source": [
    "data_alpaca = [\n",
    "    {\"question\": q, \"answer\": a} for q, a in zip(train_data, train_label)\n",
    "]"
   ]
  },
  {
   "cell_type": "code",
   "execution_count": 45,
   "metadata": {},
   "outputs": [
    {
     "data": {
      "text/plain": [
       "9310"
      ]
     },
     "execution_count": 45,
     "metadata": {},
     "output_type": "execute_result"
    }
   ],
   "source": [
    "len(data_alpaca)"
   ]
  },
  {
   "cell_type": "code",
   "execution_count": 46,
   "metadata": {},
   "outputs": [],
   "source": [
    "import json\n",
    "with open('reflection_train.json', 'w') as f:\n",
    "    json.dump(data_alpaca, f)"
   ]
  }
 ],
 "metadata": {
  "kernelspec": {
   "display_name": "AI",
   "language": "python",
   "name": "python3"
  },
  "language_info": {
   "codemirror_mode": {
    "name": "ipython",
    "version": 3
   },
   "file_extension": ".py",
   "mimetype": "text/x-python",
   "name": "python",
   "nbconvert_exporter": "python",
   "pygments_lexer": "ipython3",
   "version": "3.11.9"
  }
 },
 "nbformat": 4,
 "nbformat_minor": 2
}
